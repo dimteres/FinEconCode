{
 "cells": [
  {
   "cell_type": "code",
   "execution_count": 136,
   "metadata": {},
   "outputs": [],
   "source": [
    "import GetOldTweets3 as got\n",
    "from datetime import datetime, date, timedelta\n",
    "import numpy as np \n",
    "import pandas as pd\n",
    "import csv\n",
    "import re\n",
    "import nltk \n",
    "import matplotlib as mpl\n",
    "import matplotlib.pyplot as plt\n",
    "import tqdm\n",
    "from arch.unitroot import ADF\n",
    "from nltk.corpus import stopwords\n",
    "from statsmodels.tsa.arima_model import ARIMA\n",
    "from sklearn.feature_extraction.text import TfidfVectorizer\n",
    "from pandas_datareader import data\n",
    "from sklearn.model_selection import train_test_split\n",
    "from statsmodels.tsa.stattools import grangercausalitytests\n",
    "from sklearn.metrics import classification_report, confusion_matrix, accuracy_score\n",
    "from sklearn.ensemble import RandomForestClassifier\n",
    "from statsmodels.graphics.tsaplots import plot_acf\n",
    "from statsmodels.graphics.tsaplots import plot_pacf\n",
    "from statsmodels.tsa.stattools import acf, pacf\n",
    "%matplotlib inline"
   ]
  },
  {
   "cell_type": "markdown",
   "metadata": {},
   "source": [
    "#### Approach:\n",
    "In order to give sentiment analysis, we have decided to use NLP. We will complete the tasks in this order:\n",
    "1. Extract Trump's tweets\n",
    "2. Extract the data of labeled twitter dataset so we can train a supervised model on it\n",
    "3. Train a NLP model on it\n",
    "4. Use the trained model to evaluate tweet sentiment"
   ]
  },
  {
   "cell_type": "markdown",
   "metadata": {},
   "source": [
    "## Downloading Trump's tweets"
   ]
  },
  {
   "cell_type": "markdown",
   "metadata": {},
   "source": [
    "<b>Important to note:</b> Twitter blocks the scraping if we are pulling too many tweets. The code below is just for show, do not launch it. We managed to pull tweets all the wayback from 2016 with multiple launches."
   ]
  },
  {
   "cell_type": "code",
   "execution_count": 6,
   "metadata": {},
   "outputs": [],
   "source": [
    "# with open(\"influencersTweets.csv\", 'w', encoding=\"utf-8\") as f:\n",
    "#    # Wrap the file object by the writer.\n",
    "#    writer = csv.writer(f)\n",
    "   \n",
    "#    # Write the header line to the output if needed.\n",
    "#    writer.writerow(['username','date', 'tweet'])\n",
    "   \n",
    "#    start = date(2019, 5, 23)\n",
    "#    end = date.today()\n",
    "#    day = timedelta(days=1)\n",
    "\n",
    "#    mydate = start\n",
    "   \n",
    "#    while mydate < end:\n",
    "           \n",
    "#        print(\"{date.day:02}{date.month:02}{date.year}\".format(date=mydate))\n",
    "       \n",
    "#        tweetCriteria = got.manager.TweetCriteria().setUsername(\"realDonaldTrump\")\\\n",
    "#                                           .setSince((\"{date.year}-{date.month:02}-{date.day:02}\".format(date=mydate)))\\\n",
    "#                                           .setUntil((\"{date.year}-{date.month:02}-{date.day:02}\".format(date=mydate+day)))\\\n",
    "#                                           .setTopTweets(True)\\\n",
    "#                                           .setMaxTweets(240)\\\n",
    "#                                           .setEmoji(\"unicode\")\n",
    "       \n",
    "#        mydate = mydate + day\n",
    "    \n",
    "#        for tweets in got.manager.TweetManager.getTweets(tweetCriteria):\n",
    "#            #writer.writerow(t)\n",
    "\n",
    "#            writer.writerow([tweets.username, tweets.date, tweets.text])"
   ]
  },
  {
   "cell_type": "code",
   "execution_count": 7,
   "metadata": {},
   "outputs": [],
   "source": [
    "pd.read_csv('influencersTweets.csv').head()"
   ]
  },
  {
   "cell_type": "markdown",
   "metadata": {},
   "source": [
    "## NLP Model Setup"
   ]
  },
  {
   "cell_type": "markdown",
   "metadata": {},
   "source": [
    "### Airline data import"
   ]
  },
  {
   "cell_type": "code",
   "execution_count": 34,
   "metadata": {},
   "outputs": [],
   "source": [
    "data_source_url = \"https://raw.githubusercontent.com/kolaveridi/kaggle-Twitter-US-Airline-Sentiment-/master/Tweets.csv\"\n",
    "airline_tweets = pd.read_csv(data_source_url)"
   ]
  },
  {
   "cell_type": "markdown",
   "metadata": {},
   "source": [
    "### Data processing"
   ]
  },
  {
   "cell_type": "code",
   "execution_count": 37,
   "metadata": {},
   "outputs": [],
   "source": [
    "features = airline_tweets.iloc[:, 10].values\n",
    "labels = airline_tweets.iloc[:, 1].values"
   ]
  },
  {
   "cell_type": "code",
   "execution_count": 38,
   "metadata": {},
   "outputs": [],
   "source": [
    "processed_features = []\n",
    "\n",
    "for sentence in range(0, len(features)):\n",
    "    # Remove all the special characters\n",
    "    processed_feature = re.sub(r'\\W', ' ', str(features[sentence]))\n",
    "\n",
    "    # remove all single characters\n",
    "    processed_feature= re.sub(r'\\s+[a-zA-Z]\\s+', ' ', processed_feature)\n",
    "\n",
    "    # Remove single characters from the start\n",
    "    processed_feature = re.sub(r'\\^[a-zA-Z]\\s+', ' ', processed_feature) \n",
    "\n",
    "    # Substituting multiple spaces with single space\n",
    "    processed_feature = re.sub(r'\\s+', ' ', processed_feature, flags=re.I)\n",
    "\n",
    "    # Removing prefixed 'b'\n",
    "    processed_feature = re.sub(r'^b\\s+', '', processed_feature)\n",
    "\n",
    "    # Converting to Lowercase\n",
    "    processed_feature = processed_feature.lower()\n",
    "\n",
    "    processed_features.append(processed_feature)"
   ]
  },
  {
   "cell_type": "markdown",
   "metadata": {},
   "source": [
    "### TF-IDF vectorization"
   ]
  },
  {
   "cell_type": "code",
   "execution_count": 40,
   "metadata": {},
   "outputs": [
    {
     "name": "stdout",
     "output_type": "stream",
     "text": [
      "[nltk_data] Downloading package stopwords to /Users/semen/nltk_data...\n",
      "[nltk_data]   Unzipping corpora/stopwords.zip.\n"
     ]
    },
    {
     "data": {
      "text/plain": [
       "True"
      ]
     },
     "execution_count": 40,
     "metadata": {},
     "output_type": "execute_result"
    }
   ],
   "source": [
    "import nltk\n",
    "nltk.download('stopwords')"
   ]
  },
  {
   "cell_type": "code",
   "execution_count": 41,
   "metadata": {},
   "outputs": [],
   "source": [
    "vectorizer = TfidfVectorizer (max_features=2300, min_df=7, max_df=0.8, stop_words=stopwords.words('english'))\n",
    "processed_features = vectorizer.fit_transform(processed_features).toarray()"
   ]
  },
  {
   "cell_type": "code",
   "execution_count": 42,
   "metadata": {},
   "outputs": [
    {
     "data": {
      "text/plain": [
       "(14640, 2300)"
      ]
     },
     "execution_count": 42,
     "metadata": {},
     "output_type": "execute_result"
    }
   ],
   "source": [
    "processed_features.shape"
   ]
  },
  {
   "cell_type": "markdown",
   "metadata": {},
   "source": [
    "### Training"
   ]
  },
  {
   "cell_type": "code",
   "execution_count": 43,
   "metadata": {},
   "outputs": [],
   "source": [
    "y_train = labels\n",
    "X_train = processed_features"
   ]
  },
  {
   "cell_type": "code",
   "execution_count": 44,
   "metadata": {},
   "outputs": [
    {
     "data": {
      "text/plain": [
       "RandomForestClassifier(bootstrap=True, class_weight=None, criterion='gini',\n",
       "                       max_depth=None, max_features='auto', max_leaf_nodes=None,\n",
       "                       min_impurity_decrease=0.0, min_impurity_split=None,\n",
       "                       min_samples_leaf=1, min_samples_split=2,\n",
       "                       min_weight_fraction_leaf=0.0, n_estimators=200,\n",
       "                       n_jobs=None, oob_score=False, random_state=0, verbose=0,\n",
       "                       warm_start=False)"
      ]
     },
     "execution_count": 44,
     "metadata": {},
     "output_type": "execute_result"
    }
   ],
   "source": [
    "text_classifier = RandomForestClassifier(n_estimators=200, random_state=0)\n",
    "text_classifier.fit(X_train, y_train)"
   ]
  },
  {
   "cell_type": "markdown",
   "metadata": {},
   "source": [
    "## Making sentiment predictions on Trump's tweets"
   ]
  },
  {
   "cell_type": "markdown",
   "metadata": {},
   "source": [
    "###  Dataset import and processing"
   ]
  },
  {
   "cell_type": "code",
   "execution_count": 45,
   "metadata": {},
   "outputs": [],
   "source": [
    "tweets_df = pd.read_csv('Trump_Tweets')"
   ]
  },
  {
   "cell_type": "code",
   "execution_count": 46,
   "metadata": {},
   "outputs": [
    {
     "data": {
      "text/html": [
       "<div>\n",
       "<style scoped>\n",
       "    .dataframe tbody tr th:only-of-type {\n",
       "        vertical-align: middle;\n",
       "    }\n",
       "\n",
       "    .dataframe tbody tr th {\n",
       "        vertical-align: top;\n",
       "    }\n",
       "\n",
       "    .dataframe thead th {\n",
       "        text-align: right;\n",
       "    }\n",
       "</style>\n",
       "<table border=\"1\" class=\"dataframe\">\n",
       "  <thead>\n",
       "    <tr style=\"text-align: right;\">\n",
       "      <th></th>\n",
       "      <th>Unnamed: 0</th>\n",
       "      <th>date</th>\n",
       "      <th>tweet</th>\n",
       "    </tr>\n",
       "  </thead>\n",
       "  <tbody>\n",
       "    <tr>\n",
       "      <td>0</td>\n",
       "      <td>0</td>\n",
       "      <td>2016-01-01 23:40:51+00:00</td>\n",
       "      <td>The person that Hillary Clinton least wants to...</td>\n",
       "    </tr>\n",
       "    <tr>\n",
       "      <td>1</td>\n",
       "      <td>1</td>\n",
       "      <td>2016-01-01 23:25:54+00:00</td>\n",
       "      <td>\"@codyraymille: I have never been interested i...</td>\n",
       "    </tr>\n",
       "    <tr>\n",
       "      <td>2</td>\n",
       "      <td>2</td>\n",
       "      <td>2016-01-01 23:24:13+00:00</td>\n",
       "      <td>I will be going to Mississippi tomorrow night ...</td>\n",
       "    </tr>\n",
       "    <tr>\n",
       "      <td>3</td>\n",
       "      <td>3</td>\n",
       "      <td>2016-01-01 23:10:25+00:00</td>\n",
       "      <td>\"@CASuperrunner: @georgehenryw Huckabee is a g...</td>\n",
       "    </tr>\n",
       "    <tr>\n",
       "      <td>4</td>\n",
       "      <td>4</td>\n",
       "      <td>2016-01-01 23:08:18+00:00</td>\n",
       "      <td>\"@MEMEoryHead: I'm one of your biggest fans Mr...</td>\n",
       "    </tr>\n",
       "    <tr>\n",
       "      <td>...</td>\n",
       "      <td>...</td>\n",
       "      <td>...</td>\n",
       "      <td>...</td>\n",
       "    </tr>\n",
       "    <tr>\n",
       "      <td>14754</td>\n",
       "      <td>2166</td>\n",
       "      <td>2020-03-22 03:56:31+00:00</td>\n",
       "      <td>NaN</td>\n",
       "    </tr>\n",
       "    <tr>\n",
       "      <td>14755</td>\n",
       "      <td>2167</td>\n",
       "      <td>2020-03-22 03:46:46+00:00</td>\n",
       "      <td>Thank you @JennPellegrino @OANN</td>\n",
       "    </tr>\n",
       "    <tr>\n",
       "      <td>14756</td>\n",
       "      <td>2168</td>\n",
       "      <td>2020-03-22 03:19:31+00:00</td>\n",
       "      <td>Thank you David, so true!</td>\n",
       "    </tr>\n",
       "    <tr>\n",
       "      <td>14757</td>\n",
       "      <td>2169</td>\n",
       "      <td>2020-03-22 03:14:05+00:00</td>\n",
       "      <td>Thank you!</td>\n",
       "    </tr>\n",
       "    <tr>\n",
       "      <td>14758</td>\n",
       "      <td>2170</td>\n",
       "      <td>2020-03-22 02:53:27+00:00</td>\n",
       "      <td>CHINESE VIRUS FACT CHECK</td>\n",
       "    </tr>\n",
       "  </tbody>\n",
       "</table>\n",
       "<p>14759 rows × 3 columns</p>\n",
       "</div>"
      ],
      "text/plain": [
       "       Unnamed: 0                       date  \\\n",
       "0               0  2016-01-01 23:40:51+00:00   \n",
       "1               1  2016-01-01 23:25:54+00:00   \n",
       "2               2  2016-01-01 23:24:13+00:00   \n",
       "3               3  2016-01-01 23:10:25+00:00   \n",
       "4               4  2016-01-01 23:08:18+00:00   \n",
       "...           ...                        ...   \n",
       "14754        2166  2020-03-22 03:56:31+00:00   \n",
       "14755        2167  2020-03-22 03:46:46+00:00   \n",
       "14756        2168  2020-03-22 03:19:31+00:00   \n",
       "14757        2169  2020-03-22 03:14:05+00:00   \n",
       "14758        2170  2020-03-22 02:53:27+00:00   \n",
       "\n",
       "                                                   tweet  \n",
       "0      The person that Hillary Clinton least wants to...  \n",
       "1      \"@codyraymille: I have never been interested i...  \n",
       "2      I will be going to Mississippi tomorrow night ...  \n",
       "3      \"@CASuperrunner: @georgehenryw Huckabee is a g...  \n",
       "4      \"@MEMEoryHead: I'm one of your biggest fans Mr...  \n",
       "...                                                  ...  \n",
       "14754                                                NaN  \n",
       "14755                    Thank you @JennPellegrino @OANN  \n",
       "14756                          Thank you David, so true!  \n",
       "14757                                         Thank you!  \n",
       "14758                           CHINESE VIRUS FACT CHECK  \n",
       "\n",
       "[14759 rows x 3 columns]"
      ]
     },
     "execution_count": 46,
     "metadata": {},
     "output_type": "execute_result"
    }
   ],
   "source": [
    "tweets_df"
   ]
  },
  {
   "cell_type": "code",
   "execution_count": 47,
   "metadata": {},
   "outputs": [],
   "source": [
    "tweets = tweets_df.iloc[:, 2].values"
   ]
  },
  {
   "cell_type": "code",
   "execution_count": 48,
   "metadata": {},
   "outputs": [],
   "source": [
    "processed_tweets = []\n",
    "\n",
    "for sentence in range(0, len(tweets)):\n",
    "    # Remove all the special characters\n",
    "    processed_tweet = re.sub(r'\\W', ' ', str(tweets[sentence]))\n",
    "\n",
    "    # remove all single characters\n",
    "    processed_tweet= re.sub(r'\\s+[a-zA-Z]\\s+', ' ', processed_tweet)\n",
    "\n",
    "    # Remove single characters from the start\n",
    "    processed_tweet = re.sub(r'\\^[a-zA-Z]\\s+', ' ', processed_tweet) \n",
    "\n",
    "    # Substituting multiple spaces with single space\n",
    "    processed_tweet = re.sub(r'\\s+', ' ', processed_tweet, flags=re.I)\n",
    "\n",
    "    # Removing prefixed 'b'\n",
    "    processed_tweet = re.sub(r'^b\\s+', '', processed_tweet)\n",
    "\n",
    "    # Converting to Lowercase\n",
    "    processed_tweet = processed_tweet.lower()\n",
    "\n",
    "    processed_tweets.append(processed_tweet)"
   ]
  },
  {
   "cell_type": "code",
   "execution_count": 49,
   "metadata": {},
   "outputs": [],
   "source": [
    "vectorizer = TfidfVectorizer (max_features=2300, min_df=13, max_df=0.8, stop_words=stopwords.words('english'))\n",
    "vectorized_tweets = vectorizer.fit_transform(processed_tweets).toarray()"
   ]
  },
  {
   "cell_type": "code",
   "execution_count": 50,
   "metadata": {},
   "outputs": [
    {
     "data": {
      "text/plain": [
       "(14759, 2300)"
      ]
     },
     "execution_count": 50,
     "metadata": {},
     "output_type": "execute_result"
    }
   ],
   "source": [
    "vectorized_tweets.shape"
   ]
  },
  {
   "cell_type": "markdown",
   "metadata": {},
   "source": [
    "###  Attributing sentiment to tweets"
   ]
  },
  {
   "cell_type": "code",
   "execution_count": 51,
   "metadata": {},
   "outputs": [],
   "source": [
    "predictions = text_classifier.predict(vectorized_tweets)"
   ]
  },
  {
   "cell_type": "code",
   "execution_count": 52,
   "metadata": {},
   "outputs": [
    {
     "data": {
      "text/plain": [
       "negative    13972\n",
       "positive      421\n",
       "neutral       366\n",
       "Name: sentiment, dtype: int64"
      ]
     },
     "execution_count": 52,
     "metadata": {},
     "output_type": "execute_result"
    }
   ],
   "source": [
    "pred_df = pd.DataFrame(predictions, columns=['sentiment'])\n",
    "pred_df.sentiment.value_counts()"
   ]
  },
  {
   "cell_type": "markdown",
   "metadata": {},
   "source": [
    "## Making  the Time Series of Sentiment"
   ]
  },
  {
   "cell_type": "code",
   "execution_count": 53,
   "metadata": {},
   "outputs": [
    {
     "data": {
      "text/html": [
       "<div>\n",
       "<style scoped>\n",
       "    .dataframe tbody tr th:only-of-type {\n",
       "        vertical-align: middle;\n",
       "    }\n",
       "\n",
       "    .dataframe tbody tr th {\n",
       "        vertical-align: top;\n",
       "    }\n",
       "\n",
       "    .dataframe thead th {\n",
       "        text-align: right;\n",
       "    }\n",
       "</style>\n",
       "<table border=\"1\" class=\"dataframe\">\n",
       "  <thead>\n",
       "    <tr style=\"text-align: right;\">\n",
       "      <th></th>\n",
       "      <th>date</th>\n",
       "      <th>tweet</th>\n",
       "      <th>sentiment</th>\n",
       "    </tr>\n",
       "  </thead>\n",
       "  <tbody>\n",
       "    <tr>\n",
       "      <td>0</td>\n",
       "      <td>2016-01-01 23:40:51+00:00</td>\n",
       "      <td>The person that Hillary Clinton least wants to...</td>\n",
       "      <td>negative</td>\n",
       "    </tr>\n",
       "    <tr>\n",
       "      <td>1</td>\n",
       "      <td>2016-01-01 23:25:54+00:00</td>\n",
       "      <td>\"@codyraymille: I have never been interested i...</td>\n",
       "      <td>negative</td>\n",
       "    </tr>\n",
       "    <tr>\n",
       "      <td>2</td>\n",
       "      <td>2016-01-01 23:24:13+00:00</td>\n",
       "      <td>I will be going to Mississippi tomorrow night ...</td>\n",
       "      <td>negative</td>\n",
       "    </tr>\n",
       "    <tr>\n",
       "      <td>3</td>\n",
       "      <td>2016-01-01 23:10:25+00:00</td>\n",
       "      <td>\"@CASuperrunner: @georgehenryw Huckabee is a g...</td>\n",
       "      <td>negative</td>\n",
       "    </tr>\n",
       "    <tr>\n",
       "      <td>4</td>\n",
       "      <td>2016-01-01 23:08:18+00:00</td>\n",
       "      <td>\"@MEMEoryHead: I'm one of your biggest fans Mr...</td>\n",
       "      <td>negative</td>\n",
       "    </tr>\n",
       "    <tr>\n",
       "      <td>...</td>\n",
       "      <td>...</td>\n",
       "      <td>...</td>\n",
       "      <td>...</td>\n",
       "    </tr>\n",
       "    <tr>\n",
       "      <td>14754</td>\n",
       "      <td>2020-03-22 03:56:31+00:00</td>\n",
       "      <td>NaN</td>\n",
       "      <td>negative</td>\n",
       "    </tr>\n",
       "    <tr>\n",
       "      <td>14755</td>\n",
       "      <td>2020-03-22 03:46:46+00:00</td>\n",
       "      <td>Thank you @JennPellegrino @OANN</td>\n",
       "      <td>negative</td>\n",
       "    </tr>\n",
       "    <tr>\n",
       "      <td>14756</td>\n",
       "      <td>2020-03-22 03:19:31+00:00</td>\n",
       "      <td>Thank you David, so true!</td>\n",
       "      <td>negative</td>\n",
       "    </tr>\n",
       "    <tr>\n",
       "      <td>14757</td>\n",
       "      <td>2020-03-22 03:14:05+00:00</td>\n",
       "      <td>Thank you!</td>\n",
       "      <td>negative</td>\n",
       "    </tr>\n",
       "    <tr>\n",
       "      <td>14758</td>\n",
       "      <td>2020-03-22 02:53:27+00:00</td>\n",
       "      <td>CHINESE VIRUS FACT CHECK</td>\n",
       "      <td>negative</td>\n",
       "    </tr>\n",
       "  </tbody>\n",
       "</table>\n",
       "<p>14759 rows × 3 columns</p>\n",
       "</div>"
      ],
      "text/plain": [
       "                            date  \\\n",
       "0      2016-01-01 23:40:51+00:00   \n",
       "1      2016-01-01 23:25:54+00:00   \n",
       "2      2016-01-01 23:24:13+00:00   \n",
       "3      2016-01-01 23:10:25+00:00   \n",
       "4      2016-01-01 23:08:18+00:00   \n",
       "...                          ...   \n",
       "14754  2020-03-22 03:56:31+00:00   \n",
       "14755  2020-03-22 03:46:46+00:00   \n",
       "14756  2020-03-22 03:19:31+00:00   \n",
       "14757  2020-03-22 03:14:05+00:00   \n",
       "14758  2020-03-22 02:53:27+00:00   \n",
       "\n",
       "                                                   tweet sentiment  \n",
       "0      The person that Hillary Clinton least wants to...  negative  \n",
       "1      \"@codyraymille: I have never been interested i...  negative  \n",
       "2      I will be going to Mississippi tomorrow night ...  negative  \n",
       "3      \"@CASuperrunner: @georgehenryw Huckabee is a g...  negative  \n",
       "4      \"@MEMEoryHead: I'm one of your biggest fans Mr...  negative  \n",
       "...                                                  ...       ...  \n",
       "14754                                                NaN  negative  \n",
       "14755                    Thank you @JennPellegrino @OANN  negative  \n",
       "14756                          Thank you David, so true!  negative  \n",
       "14757                                         Thank you!  negative  \n",
       "14758                           CHINESE VIRUS FACT CHECK  negative  \n",
       "\n",
       "[14759 rows x 3 columns]"
      ]
     },
     "execution_count": 53,
     "metadata": {},
     "output_type": "execute_result"
    }
   ],
   "source": [
    "sentiment_df = pd.concat([tweets_df.drop(tweets_df.columns[0], axis=1),pred_df], axis=1)\n",
    "sentiment_df"
   ]
  },
  {
   "cell_type": "markdown",
   "metadata": {},
   "source": [
    "### Clean the dates"
   ]
  },
  {
   "cell_type": "code",
   "execution_count": 64,
   "metadata": {},
   "outputs": [],
   "source": [
    "sentiment_df['clean_datetime'] = sentiment_df['date'].apply(lambda x: x[:10])"
   ]
  },
  {
   "cell_type": "code",
   "execution_count": 66,
   "metadata": {},
   "outputs": [
    {
     "data": {
      "text/html": [
       "<div>\n",
       "<style scoped>\n",
       "    .dataframe tbody tr th:only-of-type {\n",
       "        vertical-align: middle;\n",
       "    }\n",
       "\n",
       "    .dataframe tbody tr th {\n",
       "        vertical-align: top;\n",
       "    }\n",
       "\n",
       "    .dataframe thead th {\n",
       "        text-align: right;\n",
       "    }\n",
       "</style>\n",
       "<table border=\"1\" class=\"dataframe\">\n",
       "  <thead>\n",
       "    <tr style=\"text-align: right;\">\n",
       "      <th></th>\n",
       "      <th>date</th>\n",
       "      <th>tweet</th>\n",
       "      <th>sentiment</th>\n",
       "      <th>clean_datetime</th>\n",
       "    </tr>\n",
       "  </thead>\n",
       "  <tbody>\n",
       "    <tr>\n",
       "      <td>0</td>\n",
       "      <td>2016-01-01 23:40:51+00:00</td>\n",
       "      <td>The person that Hillary Clinton least wants to...</td>\n",
       "      <td>negative</td>\n",
       "      <td>2016-01-01</td>\n",
       "    </tr>\n",
       "    <tr>\n",
       "      <td>1</td>\n",
       "      <td>2016-01-01 23:25:54+00:00</td>\n",
       "      <td>\"@codyraymille: I have never been interested i...</td>\n",
       "      <td>negative</td>\n",
       "      <td>2016-01-01</td>\n",
       "    </tr>\n",
       "    <tr>\n",
       "      <td>2</td>\n",
       "      <td>2016-01-01 23:24:13+00:00</td>\n",
       "      <td>I will be going to Mississippi tomorrow night ...</td>\n",
       "      <td>negative</td>\n",
       "      <td>2016-01-01</td>\n",
       "    </tr>\n",
       "    <tr>\n",
       "      <td>3</td>\n",
       "      <td>2016-01-01 23:10:25+00:00</td>\n",
       "      <td>\"@CASuperrunner: @georgehenryw Huckabee is a g...</td>\n",
       "      <td>negative</td>\n",
       "      <td>2016-01-01</td>\n",
       "    </tr>\n",
       "    <tr>\n",
       "      <td>4</td>\n",
       "      <td>2016-01-01 23:08:18+00:00</td>\n",
       "      <td>\"@MEMEoryHead: I'm one of your biggest fans Mr...</td>\n",
       "      <td>negative</td>\n",
       "      <td>2016-01-01</td>\n",
       "    </tr>\n",
       "    <tr>\n",
       "      <td>...</td>\n",
       "      <td>...</td>\n",
       "      <td>...</td>\n",
       "      <td>...</td>\n",
       "      <td>...</td>\n",
       "    </tr>\n",
       "    <tr>\n",
       "      <td>14754</td>\n",
       "      <td>2020-03-22 03:56:31+00:00</td>\n",
       "      <td>NaN</td>\n",
       "      <td>negative</td>\n",
       "      <td>2020-03-22</td>\n",
       "    </tr>\n",
       "    <tr>\n",
       "      <td>14755</td>\n",
       "      <td>2020-03-22 03:46:46+00:00</td>\n",
       "      <td>Thank you @JennPellegrino @OANN</td>\n",
       "      <td>negative</td>\n",
       "      <td>2020-03-22</td>\n",
       "    </tr>\n",
       "    <tr>\n",
       "      <td>14756</td>\n",
       "      <td>2020-03-22 03:19:31+00:00</td>\n",
       "      <td>Thank you David, so true!</td>\n",
       "      <td>negative</td>\n",
       "      <td>2020-03-22</td>\n",
       "    </tr>\n",
       "    <tr>\n",
       "      <td>14757</td>\n",
       "      <td>2020-03-22 03:14:05+00:00</td>\n",
       "      <td>Thank you!</td>\n",
       "      <td>negative</td>\n",
       "      <td>2020-03-22</td>\n",
       "    </tr>\n",
       "    <tr>\n",
       "      <td>14758</td>\n",
       "      <td>2020-03-22 02:53:27+00:00</td>\n",
       "      <td>CHINESE VIRUS FACT CHECK</td>\n",
       "      <td>negative</td>\n",
       "      <td>2020-03-22</td>\n",
       "    </tr>\n",
       "  </tbody>\n",
       "</table>\n",
       "<p>14759 rows × 4 columns</p>\n",
       "</div>"
      ],
      "text/plain": [
       "                            date  \\\n",
       "0      2016-01-01 23:40:51+00:00   \n",
       "1      2016-01-01 23:25:54+00:00   \n",
       "2      2016-01-01 23:24:13+00:00   \n",
       "3      2016-01-01 23:10:25+00:00   \n",
       "4      2016-01-01 23:08:18+00:00   \n",
       "...                          ...   \n",
       "14754  2020-03-22 03:56:31+00:00   \n",
       "14755  2020-03-22 03:46:46+00:00   \n",
       "14756  2020-03-22 03:19:31+00:00   \n",
       "14757  2020-03-22 03:14:05+00:00   \n",
       "14758  2020-03-22 02:53:27+00:00   \n",
       "\n",
       "                                                   tweet sentiment  \\\n",
       "0      The person that Hillary Clinton least wants to...  negative   \n",
       "1      \"@codyraymille: I have never been interested i...  negative   \n",
       "2      I will be going to Mississippi tomorrow night ...  negative   \n",
       "3      \"@CASuperrunner: @georgehenryw Huckabee is a g...  negative   \n",
       "4      \"@MEMEoryHead: I'm one of your biggest fans Mr...  negative   \n",
       "...                                                  ...       ...   \n",
       "14754                                                NaN  negative   \n",
       "14755                    Thank you @JennPellegrino @OANN  negative   \n",
       "14756                          Thank you David, so true!  negative   \n",
       "14757                                         Thank you!  negative   \n",
       "14758                           CHINESE VIRUS FACT CHECK  negative   \n",
       "\n",
       "      clean_datetime  \n",
       "0         2016-01-01  \n",
       "1         2016-01-01  \n",
       "2         2016-01-01  \n",
       "3         2016-01-01  \n",
       "4         2016-01-01  \n",
       "...              ...  \n",
       "14754     2020-03-22  \n",
       "14755     2020-03-22  \n",
       "14756     2020-03-22  \n",
       "14757     2020-03-22  \n",
       "14758     2020-03-22  \n",
       "\n",
       "[14759 rows x 4 columns]"
      ]
     },
     "execution_count": 66,
     "metadata": {},
     "output_type": "execute_result"
    }
   ],
   "source": [
    "sentiment_df"
   ]
  },
  {
   "cell_type": "markdown",
   "metadata": {},
   "source": [
    "### Score sentiment"
   ]
  },
  {
   "cell_type": "markdown",
   "metadata": {},
   "source": [
    "<b>Rule</b> :\n",
    "- Positive = 1\n",
    "- Neutral = 0\n",
    "- Negative = -1"
   ]
  },
  {
   "cell_type": "code",
   "execution_count": 67,
   "metadata": {},
   "outputs": [],
   "source": [
    "def score_sentiment(sentiment):\n",
    "    if sentiment == \"negative\":\n",
    "        sentiment_score = -1\n",
    "    elif sentiment == \"positive\":\n",
    "        sentiment_score = 1\n",
    "    elif sentiment == \"neutral\":\n",
    "        sentiment_score = 0\n",
    "    return sentiment_score"
   ]
  },
  {
   "cell_type": "code",
   "execution_count": 68,
   "metadata": {},
   "outputs": [],
   "source": [
    "sentiment_df['sentiment_score'] = sentiment_df['sentiment'].apply(lambda x: score_sentiment(x))"
   ]
  },
  {
   "cell_type": "markdown",
   "metadata": {},
   "source": [
    "### Constructing a time series"
   ]
  },
  {
   "cell_type": "markdown",
   "metadata": {},
   "source": [
    "<b>Rule</b> : We will aggregate the sentiment score by summing the sentiment score  daily"
   ]
  },
  {
   "cell_type": "code",
   "execution_count": 70,
   "metadata": {
    "scrolled": false
   },
   "outputs": [
    {
     "data": {
      "text/html": [
       "<div>\n",
       "<style scoped>\n",
       "    .dataframe tbody tr th:only-of-type {\n",
       "        vertical-align: middle;\n",
       "    }\n",
       "\n",
       "    .dataframe tbody tr th {\n",
       "        vertical-align: top;\n",
       "    }\n",
       "\n",
       "    .dataframe thead th {\n",
       "        text-align: right;\n",
       "    }\n",
       "</style>\n",
       "<table border=\"1\" class=\"dataframe\">\n",
       "  <thead>\n",
       "    <tr style=\"text-align: right;\">\n",
       "      <th></th>\n",
       "      <th>sentiment_score</th>\n",
       "    </tr>\n",
       "    <tr>\n",
       "      <th>clean_datetime</th>\n",
       "      <th></th>\n",
       "    </tr>\n",
       "  </thead>\n",
       "  <tbody>\n",
       "    <tr>\n",
       "      <td>2016-01-01</td>\n",
       "      <td>-14</td>\n",
       "    </tr>\n",
       "    <tr>\n",
       "      <td>2016-01-02</td>\n",
       "      <td>-8</td>\n",
       "    </tr>\n",
       "    <tr>\n",
       "      <td>2016-01-03</td>\n",
       "      <td>-14</td>\n",
       "    </tr>\n",
       "    <tr>\n",
       "      <td>2016-01-04</td>\n",
       "      <td>-3</td>\n",
       "    </tr>\n",
       "    <tr>\n",
       "      <td>2016-01-05</td>\n",
       "      <td>-10</td>\n",
       "    </tr>\n",
       "    <tr>\n",
       "      <td>...</td>\n",
       "      <td>...</td>\n",
       "    </tr>\n",
       "    <tr>\n",
       "      <td>2020-03-18</td>\n",
       "      <td>-16</td>\n",
       "    </tr>\n",
       "    <tr>\n",
       "      <td>2020-03-19</td>\n",
       "      <td>-6</td>\n",
       "    </tr>\n",
       "    <tr>\n",
       "      <td>2020-03-20</td>\n",
       "      <td>-4</td>\n",
       "    </tr>\n",
       "    <tr>\n",
       "      <td>2020-03-21</td>\n",
       "      <td>-7</td>\n",
       "    </tr>\n",
       "    <tr>\n",
       "      <td>2020-03-22</td>\n",
       "      <td>-13</td>\n",
       "    </tr>\n",
       "  </tbody>\n",
       "</table>\n",
       "<p>1528 rows × 1 columns</p>\n",
       "</div>"
      ],
      "text/plain": [
       "                sentiment_score\n",
       "clean_datetime                 \n",
       "2016-01-01                  -14\n",
       "2016-01-02                   -8\n",
       "2016-01-03                  -14\n",
       "2016-01-04                   -3\n",
       "2016-01-05                  -10\n",
       "...                         ...\n",
       "2020-03-18                  -16\n",
       "2020-03-19                   -6\n",
       "2020-03-20                   -4\n",
       "2020-03-21                   -7\n",
       "2020-03-22                  -13\n",
       "\n",
       "[1528 rows x 1 columns]"
      ]
     },
     "execution_count": 70,
     "metadata": {},
     "output_type": "execute_result"
    }
   ],
   "source": [
    "time_series_df = sentiment_df.groupby([sentiment_df['clean_datetime']]).sum()\n",
    "time_series_df"
   ]
  },
  {
   "cell_type": "code",
   "execution_count": 71,
   "metadata": {},
   "outputs": [],
   "source": [
    "from pandas.plotting import register_matplotlib_converters\n",
    "register_matplotlib_converters()"
   ]
  },
  {
   "cell_type": "code",
   "execution_count": 73,
   "metadata": {
    "scrolled": true
   },
   "outputs": [
    {
     "data": {
      "image/png": "[encoded data removed]",
      "text/plain": [
       "<Figure size 1440x360 with 1 Axes>"
      ]
     },
     "metadata": {},
     "output_type": "display_data"
    }
   ],
   "source": [
    "x = time_series_df.index\n",
    "y = time_series_df['sentiment_score']\n",
    "plt.figure(figsize=(20,5))\n",
    "plt.plot(x,y)\n",
    "plt.show()"
   ]
  },
  {
   "cell_type": "markdown",
   "metadata": {},
   "source": [
    "### Evaluating the time series"
   ]
  },
  {
   "cell_type": "code",
   "execution_count": 74,
   "metadata": {},
   "outputs": [
    {
     "data": {
      "text/html": [
       "<div>\n",
       "<style scoped>\n",
       "    .dataframe tbody tr th:only-of-type {\n",
       "        vertical-align: middle;\n",
       "    }\n",
       "\n",
       "    .dataframe tbody tr th {\n",
       "        vertical-align: top;\n",
       "    }\n",
       "\n",
       "    .dataframe thead th {\n",
       "        text-align: right;\n",
       "    }\n",
       "</style>\n",
       "<table border=\"1\" class=\"dataframe\">\n",
       "  <thead>\n",
       "    <tr style=\"text-align: right;\">\n",
       "      <th></th>\n",
       "      <th>sentiment_score</th>\n",
       "    </tr>\n",
       "  </thead>\n",
       "  <tbody>\n",
       "    <tr>\n",
       "      <td>count</td>\n",
       "      <td>1528.000000</td>\n",
       "    </tr>\n",
       "    <tr>\n",
       "      <td>mean</td>\n",
       "      <td>-8.868455</td>\n",
       "    </tr>\n",
       "    <tr>\n",
       "      <td>std</td>\n",
       "      <td>5.797192</td>\n",
       "    </tr>\n",
       "    <tr>\n",
       "      <td>min</td>\n",
       "      <td>-55.000000</td>\n",
       "    </tr>\n",
       "    <tr>\n",
       "      <td>25%</td>\n",
       "      <td>-12.000000</td>\n",
       "    </tr>\n",
       "    <tr>\n",
       "      <td>50%</td>\n",
       "      <td>-8.000000</td>\n",
       "    </tr>\n",
       "    <tr>\n",
       "      <td>75%</td>\n",
       "      <td>-5.000000</td>\n",
       "    </tr>\n",
       "    <tr>\n",
       "      <td>max</td>\n",
       "      <td>2.000000</td>\n",
       "    </tr>\n",
       "  </tbody>\n",
       "</table>\n",
       "</div>"
      ],
      "text/plain": [
       "       sentiment_score\n",
       "count      1528.000000\n",
       "mean         -8.868455\n",
       "std           5.797192\n",
       "min         -55.000000\n",
       "25%         -12.000000\n",
       "50%          -8.000000\n",
       "75%          -5.000000\n",
       "max           2.000000"
      ]
     },
     "execution_count": 74,
     "metadata": {},
     "output_type": "execute_result"
    }
   ],
   "source": [
    "time_series_df.describe()"
   ]
  },
  {
   "cell_type": "markdown",
   "metadata": {},
   "source": [
    "### Test stationarity"
   ]
  },
  {
   "cell_type": "code",
   "execution_count": 77,
   "metadata": {
    "scrolled": true
   },
   "outputs": [
    {
     "name": "stdout",
     "output_type": "stream",
     "text": [
      "   Augmented Dickey-Fuller Results   \n",
      "=====================================\n",
      "Test Statistic                 -3.917\n",
      "P-value                         0.002\n",
      "Lags                               23\n",
      "-------------------------------------\n",
      "\n",
      "Trend: Constant\n",
      "Critical Values: -3.43 (1%), -2.86 (5%), -2.57 (10%)\n",
      "Null Hypothesis: The process contains a unit root.\n",
      "Alternative Hypothesis: The process is weakly stationary.\n"
     ]
    }
   ],
   "source": [
    "# Augmented DF Test\n",
    "adf = ADF(y)\n",
    "print(adf.summary().as_text())"
   ]
  },
  {
   "cell_type": "markdown",
   "metadata": {},
   "source": [
    "Here p-value < 0.05 so we reject the null hypothesis and conclude that the Time Series is stationary"
   ]
  },
  {
   "cell_type": "markdown",
   "metadata": {},
   "source": [
    "### Autocorrelation Function"
   ]
  },
  {
   "cell_type": "code",
   "execution_count": 80,
   "metadata": {
    "scrolled": true
   },
   "outputs": [
    {
     "name": "stderr",
     "output_type": "stream",
     "text": [
      "/Users/semen/anaconda3/lib/python3.6/site-packages/statsmodels/tsa/stattools.py:572: FutureWarning: fft=True will become the default in a future version of statsmodels. To suppress this warning, explicitly set fft=False.\n",
      "  FutureWarning\n"
     ]
    },
    {
     "data": {
      "image/png": "[encoded data removed]",
      "text/plain": [
       "<Figure size 432x288 with 1 Axes>"
      ]
     },
     "metadata": {},
     "output_type": "display_data"
    }
   ],
   "source": [
    "MAACF = acf(y, nlags=50)\n",
    "x = range(0,51)\n",
    "plt.bar(x,MAACF,1/4, color=\"black\")\n",
    "plt.axhline(y=-1.96/np.sqrt(len(MAACF)),linestyle='--',color='b')\n",
    "plt.axhline(y=1.96/np.sqrt(len(MAACF)),linestyle='--',color='b')\n",
    "plt.title('Autocorrelation for Returns')\n",
    "plt.show()"
   ]
  },
  {
   "cell_type": "code",
   "execution_count": 82,
   "metadata": {},
   "outputs": [
    {
     "data": {
      "image/png": "[encoded data removed]",
      "text/plain": [
       "<Figure size 432x288 with 1 Axes>"
      ]
     },
     "metadata": {},
     "output_type": "display_data"
    }
   ],
   "source": [
    "MAPACF = pacf(y, nlags=50)\n",
    "x = range(0,51)\n",
    "plt.bar(x,MAPACF,1/4, color=\"black\")\n",
    "plt.axhline(y=-1.96/np.sqrt(len(MAPACF)),linestyle='--',color='b')\n",
    "plt.axhline(y=1.96/np.sqrt(len(MAPACF)),linestyle='--',color='b')\n",
    "plt.title('Partial Autocorrelation for Returns')\n",
    "plt.show()"
   ]
  },
  {
   "cell_type": "markdown",
   "metadata": {},
   "source": [
    "We can observe very large lag in the ACF."
   ]
  },
  {
   "cell_type": "markdown",
   "metadata": {},
   "source": [
    "### Fit an ARMA model"
   ]
  },
  {
   "cell_type": "code",
   "execution_count": 173,
   "metadata": {},
   "outputs": [
    {
     "name": "stderr",
     "output_type": "stream",
     "text": [
      "/Users/semen/anaconda3/lib/python3.6/site-packages/statsmodels/tsa/base/tsa_model.py:218: ValueWarning: A date index has been provided, but it has no associated frequency information and so will be ignored when e.g. forecasting.\n",
      "  ' ignored when e.g. forecasting.', ValueWarning)\n"
     ]
    },
    {
     "name": "stdout",
     "output_type": "stream",
     "text": [
      "                              ARMA Model Results                              \n",
      "==============================================================================\n",
      "Dep. Variable:        sentiment_score   No. Observations:                 1528\n",
      "Model:                     ARMA(1, 1)   Log Likelihood               -4609.088\n",
      "Method:                       css-mle   S.D. of innovations              4.939\n",
      "Date:                Fri, 27 Mar 2020   AIC                           9226.176\n",
      "Time:                        00:42:43   BIC                           9247.503\n",
      "Sample:                             0   HQIC                          9234.113\n",
      "                                                                              \n",
      "=========================================================================================\n",
      "                            coef    std err          z      P>|z|      [0.025      0.975]\n",
      "-----------------------------------------------------------------------------------------\n",
      "const                    -8.9850      0.894    -10.053      0.000     -10.737      -7.233\n",
      "ar.L1.sentiment_score     0.9815      0.007    143.725      0.000       0.968       0.995\n",
      "ma.L1.sentiment_score    -0.8652      0.020    -42.902      0.000      -0.905      -0.826\n",
      "                                    Roots                                    \n",
      "=============================================================================\n",
      "                  Real          Imaginary           Modulus         Frequency\n",
      "-----------------------------------------------------------------------------\n",
      "AR.1            1.0189           +0.0000j            1.0189            0.0000\n",
      "MA.1            1.1559           +0.0000j            1.1559            0.0000\n",
      "-----------------------------------------------------------------------------\n"
     ]
    }
   ],
   "source": [
    "model = ARIMA(y, order=(1,0,1))\n",
    "model_fit = model.fit(disp=0)\n",
    "print(model_fit.summary())"
   ]
  },
  {
   "cell_type": "markdown",
   "metadata": {},
   "source": [
    "#### We can also plot residual errors"
   ]
  },
  {
   "cell_type": "code",
   "execution_count": 110,
   "metadata": {},
   "outputs": [
    {
     "data": {
      "text/plain": [
       "<matplotlib.axes._subplots.AxesSubplot at 0x12db89358>"
      ]
     },
     "execution_count": 110,
     "metadata": {},
     "output_type": "execute_result"
    },
    {
     "data": {
      "image/png": "[encoded data removed]",
      "text/plain": [
       "<Figure size 1080x360 with 1 Axes>"
      ]
     },
     "metadata": {},
     "output_type": "display_data"
    }
   ],
   "source": [
    "# plot residual errors\n",
    "residuals = pd.DataFrame(model_fit.resid)\n",
    "residuals.plot(figsize = (15,5))"
   ]
  },
  {
   "cell_type": "code",
   "execution_count": 111,
   "metadata": {},
   "outputs": [
    {
     "data": {
      "text/plain": [
       "<matplotlib.axes._subplots.AxesSubplot at 0x12db3e5c0>"
      ]
     },
     "execution_count": 111,
     "metadata": {},
     "output_type": "execute_result"
    },
    {
     "data": {
      "image/png": "[encoded data removed]",
      "text/plain": [
       "<Figure size 1080x360 with 1 Axes>"
      ]
     },
     "metadata": {},
     "output_type": "display_data"
    }
   ],
   "source": [
    "# Residuals density\n",
    "residuals.plot(figsize = (15,5), kind='kde')"
   ]
  },
  {
   "cell_type": "markdown",
   "metadata": {},
   "source": [
    "We can observe that the residuals look Gaussian which is a good sign"
   ]
  },
  {
   "cell_type": "code",
   "execution_count": 112,
   "metadata": {},
   "outputs": [
    {
     "name": "stderr",
     "output_type": "stream",
     "text": [
      "/Users/semen/anaconda3/lib/python3.6/site-packages/statsmodels/tsa/stattools.py:572: FutureWarning: fft=True will become the default in a future version of statsmodels. To suppress this warning, explicitly set fft=False.\n",
      "  FutureWarning\n"
     ]
    },
    {
     "data": {
      "image/png": "[encoded data removed]",
      "text/plain": [
       "<Figure size 432x288 with 1 Axes>"
      ]
     },
     "metadata": {},
     "output_type": "display_data"
    }
   ],
   "source": [
    "MAres2 = model_fit.resid\n",
    "MAACF = acf(MAres2, nlags=50)\n",
    "x = range(0,51)\n",
    "plt.bar(x,MAACF,1/4, color=\"black\")\n",
    "plt.axhline(y=-1.96/np.sqrt(len(MAACF)),linestyle='--',color='b')\n",
    "plt.axhline(y=1.96/np.sqrt(len(MAACF)),linestyle='--',color='b')\n",
    "plt.title('Autocorrelation for Returns')\n",
    "plt.show()"
   ]
  },
  {
   "cell_type": "code",
   "execution_count": 113,
   "metadata": {},
   "outputs": [
    {
     "data": {
      "image/png": "[encoded data removed]",
      "text/plain": [
       "<Figure size 432x288 with 1 Axes>"
      ]
     },
     "metadata": {},
     "output_type": "display_data"
    }
   ],
   "source": [
    "MAres = model_fit.resid\n",
    "MAPACF = pacf(MAres, nlags=50)\n",
    "x = range(0,51)\n",
    "plt.bar(x,MAPACF,1/4, color=\"black\")\n",
    "plt.axhline(y=-1.96/np.sqrt(len(MAPACF)),linestyle='--',color='b')\n",
    "plt.axhline(y=1.96/np.sqrt(len(MAPACF)),linestyle='--',color='b')\n",
    "plt.title('Autocorrelation for Returns')\n",
    "plt.show()"
   ]
  },
  {
   "cell_type": "markdown",
   "metadata": {},
   "source": [
    "<b> For tweets we found ARMA(1, 1) process to be the one with lowest AIC and BIC criteria</b>"
   ]
  },
  {
   "cell_type": "markdown",
   "metadata": {},
   "source": [
    "## Question 4"
   ]
  },
  {
   "cell_type": "code",
   "execution_count": 116,
   "metadata": {},
   "outputs": [],
   "source": [
    "start_date, end_date = '2016-01-01', '2020-01-01'\n",
    "SnP = data.DataReader('^GSPC', 'yahoo', start_date, end_date)\n",
    "SnP['Log'] = np.log(SnP['Adj Close'])\n",
    "SnP['Returns'] = np.append(0,np.diff(SnP['Log']))\n",
    "SnP = SnP['Returns']"
   ]
  },
  {
   "cell_type": "code",
   "execution_count": 117,
   "metadata": {},
   "outputs": [
    {
     "data": {
      "image/png": "[encoded data removed]",
      "text/plain": [
       "<Figure size 432x288 with 1 Axes>"
      ]
     },
     "metadata": {},
     "output_type": "display_data"
    }
   ],
   "source": [
    "plt.plot(SnP)\n",
    "plt.show()"
   ]
  },
  {
   "cell_type": "code",
   "execution_count": 118,
   "metadata": {},
   "outputs": [
    {
     "name": "stdout",
     "output_type": "stream",
     "text": [
      "   Augmented Dickey-Fuller Results   \n",
      "=====================================\n",
      "Test Statistic                -12.264\n",
      "P-value                         0.000\n",
      "Lags                                7\n",
      "-------------------------------------\n",
      "\n",
      "Trend: Constant\n",
      "Critical Values: -3.44 (1%), -2.86 (5%), -2.57 (10%)\n",
      "Null Hypothesis: The process contains a unit root.\n",
      "Alternative Hypothesis: The process is weakly stationary.\n"
     ]
    }
   ],
   "source": [
    "#For the level\n",
    "adf = ADF(SnP)\n",
    "print(adf.summary().as_text())"
   ]
  },
  {
   "cell_type": "code",
   "execution_count": 119,
   "metadata": {},
   "outputs": [
    {
     "name": "stderr",
     "output_type": "stream",
     "text": [
      "/Users/semen/anaconda3/lib/python3.6/site-packages/statsmodels/tsa/stattools.py:572: FutureWarning: fft=True will become the default in a future version of statsmodels. To suppress this warning, explicitly set fft=False.\n",
      "  FutureWarning\n"
     ]
    },
    {
     "data": {
      "image/png": "[encoded data removed]",
      "text/plain": [
       "<Figure size 432x288 with 1 Axes>"
      ]
     },
     "metadata": {},
     "output_type": "display_data"
    }
   ],
   "source": [
    "MAACF = acf(SnP.values, nlags=50)\n",
    "x = range(0,51)\n",
    "plt.bar(x,MAACF,1/4, color=\"black\")\n",
    "plt.axhline(y=-1.96/np.sqrt(len(MAACF)),linestyle='--',color='b')\n",
    "plt.axhline(y=1.96/np.sqrt(len(MAACF)),linestyle='--',color='b')\n",
    "plt.title('Autocorrelation for Returns')\n",
    "plt.show()"
   ]
  },
  {
   "cell_type": "code",
   "execution_count": 120,
   "metadata": {},
   "outputs": [
    {
     "data": {
      "image/png": "[encoded data removed]",
      "text/plain": [
       "<Figure size 432x288 with 1 Axes>"
      ]
     },
     "metadata": {},
     "output_type": "display_data"
    }
   ],
   "source": [
    "MAPACF = pacf(SnP.values, nlags=50)\n",
    "x = range(0,51)\n",
    "plt.bar(x,MAPACF,1/4, color=\"black\")\n",
    "plt.axhline(y=-1.96/np.sqrt(len(MAPACF)),linestyle='--',color='b')\n",
    "plt.axhline(y=1.96/np.sqrt(len(MAPACF)),linestyle='--',color='b')\n",
    "plt.title('Partial Autocorrelation for Returns')\n",
    "plt.show()"
   ]
  },
  {
   "cell_type": "code",
   "execution_count": 166,
   "metadata": {},
   "outputs": [
    {
     "name": "stdout",
     "output_type": "stream",
     "text": [
      "                              ARMA Model Results                              \n",
      "==============================================================================\n",
      "Dep. Variable:                      y   No. Observations:                 1006\n",
      "Model:                     ARMA(2, 1)   Log Likelihood                3420.209\n",
      "Method:                       css-mle   S.D. of innovations              0.008\n",
      "Date:                Fri, 27 Mar 2020   AIC                          -6830.417\n",
      "Time:                        00:38:09   BIC                          -6805.849\n",
      "Sample:                             0   HQIC                         -6821.082\n",
      "                                                                              \n",
      "==============================================================================\n",
      "                 coef    std err          z      P>|z|      [0.025      0.975]\n",
      "------------------------------------------------------------------------------\n",
      "const          0.0005      0.000      1.974      0.048    3.27e-06       0.001\n",
      "ar.L1.y       -0.9194      0.116     -7.925      0.000      -1.147      -0.692\n",
      "ar.L2.y       -0.0766      0.032     -2.384      0.017      -0.140      -0.014\n",
      "ma.L1.y        0.8695      0.113      7.709      0.000       0.648       1.091\n",
      "                                    Roots                                    \n",
      "=============================================================================\n",
      "                  Real          Imaginary           Modulus         Frequency\n",
      "-----------------------------------------------------------------------------\n",
      "AR.1           -1.2095           +0.0000j            1.2095            0.5000\n",
      "AR.2          -10.7977           +0.0000j           10.7977            0.5000\n",
      "MA.1           -1.1501           +0.0000j            1.1501            0.5000\n",
      "-----------------------------------------------------------------------------\n"
     ]
    }
   ],
   "source": [
    "model = ARIMA(SnP.values, order=(2,0,1))\n",
    "model_fit = model.fit(disp=0)\n",
    "print(model_fit.summary())"
   ]
  },
  {
   "cell_type": "code",
   "execution_count": 122,
   "metadata": {},
   "outputs": [
    {
     "data": {
      "text/plain": [
       "array([[ 1.53873222e-09,  1.34863622e-08,  8.63387250e-13],\n",
       "       [ 1.34863622e-08,  4.21352674e-05, -8.04666755e-10],\n",
       "       [ 8.63387250e-13, -8.04666755e-10,  1.39789153e-05]])"
      ]
     },
     "execution_count": 122,
     "metadata": {},
     "output_type": "execute_result"
    }
   ],
   "source": [
    "model_fit.params #coef param\n",
    "model_fit.cov_params() #cov matrix"
   ]
  },
  {
   "cell_type": "code",
   "execution_count": 123,
   "metadata": {},
   "outputs": [
    {
     "name": "stderr",
     "output_type": "stream",
     "text": [
      "/Users/semen/anaconda3/lib/python3.6/site-packages/statsmodels/tsa/stattools.py:572: FutureWarning: fft=True will become the default in a future version of statsmodels. To suppress this warning, explicitly set fft=False.\n",
      "  FutureWarning\n"
     ]
    },
    {
     "data": {
      "image/png": "[encoded data removed]",
      "text/plain": [
       "<Figure size 432x288 with 1 Axes>"
      ]
     },
     "metadata": {},
     "output_type": "display_data"
    }
   ],
   "source": [
    "MAres2 = model_fit.resid\n",
    "MAACF = acf(MAres2, nlags=50)\n",
    "x = range(0,51)\n",
    "plt.bar(x,MAACF,1/4, color=\"black\")\n",
    "plt.axhline(y=-1.96/np.sqrt(len(MAACF)),linestyle='--',color='b')\n",
    "plt.axhline(y=1.96/np.sqrt(len(MAACF)),linestyle='--',color='b')\n",
    "plt.title('Autocorrelation for Returns')\n",
    "plt.show()"
   ]
  },
  {
   "cell_type": "code",
   "execution_count": 124,
   "metadata": {},
   "outputs": [
    {
     "data": {
      "image/png": "[encoded data removed]",
      "text/plain": [
       "<Figure size 432x288 with 1 Axes>"
      ]
     },
     "metadata": {},
     "output_type": "display_data"
    }
   ],
   "source": [
    "MAres = model_fit.resid\n",
    "MAPACF = pacf(MAres, nlags=50)\n",
    "x = range(0,51)\n",
    "plt.bar(x,MAPACF,1/4, color=\"black\")\n",
    "plt.axhline(y=-1.96/np.sqrt(len(MAPACF)),linestyle='--',color='b')\n",
    "plt.axhline(y=1.96/np.sqrt(len(MAPACF)),linestyle='--',color='b')\n",
    "plt.title('Autocorrelation for Returns')\n",
    "plt.show()"
   ]
  },
  {
   "cell_type": "markdown",
   "metadata": {},
   "source": [
    "<b>For S&P 500 we came up with ARMA(1,1) model as it had the lowest AIC and BIC criterias</b>"
   ]
  },
  {
   "cell_type": "markdown",
   "metadata": {},
   "source": [
    "## Question 5"
   ]
  },
  {
   "cell_type": "code",
   "execution_count": 164,
   "metadata": {},
   "outputs": [],
   "source": [
    "data_tuples = list(zip(list(SnP.values), list(y[3:-82].values)))"
   ]
  },
  {
   "cell_type": "code",
   "execution_count": 165,
   "metadata": {},
   "outputs": [
    {
     "name": "stdout",
     "output_type": "stream",
     "text": [
      "\n",
      "Granger Causality\n",
      "number of lags (no zero) 1\n",
      "ssr based F test:         F=0.3322  , p=0.5645  , df_denom=1002, df_num=1\n",
      "ssr based chi2 test:   chi2=0.3332  , p=0.5638  , df=1\n",
      "likelihood ratio test: chi2=0.3332  , p=0.5638  , df=1\n",
      "parameter F test:         F=0.3322  , p=0.5645  , df_denom=1002, df_num=1\n",
      "\n",
      "Granger Causality\n",
      "number of lags (no zero) 2\n",
      "ssr based F test:         F=0.8628  , p=0.4223  , df_denom=999, df_num=2\n",
      "ssr based chi2 test:   chi2=1.7341  , p=0.4202  , df=2\n",
      "likelihood ratio test: chi2=1.7326  , p=0.4205  , df=2\n",
      "parameter F test:         F=0.8628  , p=0.4223  , df_denom=999, df_num=2\n",
      "\n",
      "Granger Causality\n",
      "number of lags (no zero) 3\n",
      "ssr based F test:         F=0.7769  , p=0.5070  , df_denom=996, df_num=3\n",
      "ssr based chi2 test:   chi2=2.3470  , p=0.5036  , df=3\n",
      "likelihood ratio test: chi2=2.3442  , p=0.5041  , df=3\n",
      "parameter F test:         F=0.7769  , p=0.5070  , df_denom=996, df_num=3\n",
      "\n",
      "Granger Causality\n",
      "number of lags (no zero) 4\n",
      "ssr based F test:         F=0.9035  , p=0.4612  , df_denom=993, df_num=4\n",
      "ssr based chi2 test:   chi2=3.6466  , p=0.4559  , df=4\n",
      "likelihood ratio test: chi2=3.6400  , p=0.4569  , df=4\n",
      "parameter F test:         F=0.9035  , p=0.4612  , df_denom=993, df_num=4\n"
     ]
    }
   ],
   "source": [
    "gc_res = grangercausalitytests(pd.DataFrame(data_tuples), 4)"
   ]
  },
  {
   "cell_type": "markdown",
   "metadata": {},
   "source": [
    "<b>Having tested for Granger casuality we found that Donald Trump's tweets were not sufficient to forecast S&P 500 returns as P-value is higher than 0.1 </b>"
   ]
  },
  {
   "cell_type": "code",
   "execution_count": null,
   "metadata": {},
   "outputs": [],
   "source": []
  }
 ],
 "metadata": {
  "kernelspec": {
   "display_name": "Python 3",
   "language": "python",
   "name": "python3"
  },
  "language_info": {
   "codemirror_mode": {
    "name": "ipython",
    "version": 3
   },
   "file_extension": ".py",
   "mimetype": "text/x-python",
   "name": "python",
   "nbconvert_exporter": "python",
   "pygments_lexer": "ipython3",
   "version": "3.6.6"
  }
 },
 "nbformat": 4,
 "nbformat_minor": 2
}
